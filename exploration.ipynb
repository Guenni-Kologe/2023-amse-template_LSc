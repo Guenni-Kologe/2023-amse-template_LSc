{
 "cells": [
  {
   "attachments": {},
   "cell_type": "markdown",
   "metadata": {},
   "source": [
    "# Which counties in Germany have alot of vehicles registered per inhabitant?\n",
    "\n",
    "In this project we examined the correlation between the amount of inhabitants and the amount of registered vehicles for german counties. This study aims to identify counties with a large number of vehicles per inhabitant. By identifying such counties the german government could start improving public transport in this counties and therefore offer more people ecofriendly transportation.\n",
    "\n",
    "For that purpuse we used data from Mobilithek about the vehicles per county (https://mobilithek.info/offers/-8395690728355365851) and an additional data set about the inhabitants per county (https://downloads.suche-postleitzahl.org/v2/public/plz_einwohner.csv)."
   ]
  },
  {
   "attachments": {},
   "cell_type": "markdown",
   "metadata": {},
   "source": [
    "## Install dependencies"
   ]
  },
  {
   "cell_type": "code",
   "execution_count": 55,
   "metadata": {},
   "outputs": [
    {
     "name": "stdout",
     "output_type": "stream",
     "text": [
      "Requirement already satisfied: pandas in /home/codespace/.local/lib/python3.10/site-packages (2.0.2)\n",
      "Requirement already satisfied: python-dateutil>=2.8.2 in /home/codespace/.local/lib/python3.10/site-packages (from pandas) (2.8.2)\n",
      "Requirement already satisfied: pytz>=2020.1 in /home/codespace/.local/lib/python3.10/site-packages (from pandas) (2023.3)\n",
      "Requirement already satisfied: tzdata>=2022.1 in /home/codespace/.local/lib/python3.10/site-packages (from pandas) (2023.3)\n",
      "Requirement already satisfied: numpy>=1.21.0 in /home/codespace/.local/lib/python3.10/site-packages (from pandas) (1.24.3)\n",
      "Requirement already satisfied: six>=1.5 in /home/codespace/.local/lib/python3.10/site-packages (from python-dateutil>=2.8.2->pandas) (1.16.0)\n",
      "Note: you may need to restart the kernel to use updated packages.\n",
      "Requirement already satisfied: SQLAlchemy==1.4.46 in /usr/local/python/3.10.8/lib/python3.10/site-packages (1.4.46)\n",
      "Requirement already satisfied: greenlet!=0.4.17 in /usr/local/python/3.10.8/lib/python3.10/site-packages (from SQLAlchemy==1.4.46) (2.0.2)\n",
      "Note: you may need to restart the kernel to use updated packages.\n",
      "Requirement already satisfied: matplotlib in /home/codespace/.local/lib/python3.10/site-packages (3.7.1)\n",
      "Requirement already satisfied: contourpy>=1.0.1 in /home/codespace/.local/lib/python3.10/site-packages (from matplotlib) (1.0.7)\n",
      "Requirement already satisfied: cycler>=0.10 in /home/codespace/.local/lib/python3.10/site-packages (from matplotlib) (0.11.0)\n",
      "Requirement already satisfied: fonttools>=4.22.0 in /home/codespace/.local/lib/python3.10/site-packages (from matplotlib) (4.39.4)\n",
      "Requirement already satisfied: kiwisolver>=1.0.1 in /home/codespace/.local/lib/python3.10/site-packages (from matplotlib) (1.4.4)\n",
      "Requirement already satisfied: numpy>=1.20 in /home/codespace/.local/lib/python3.10/site-packages (from matplotlib) (1.24.3)\n",
      "Requirement already satisfied: packaging>=20.0 in /home/codespace/.local/lib/python3.10/site-packages (from matplotlib) (23.1)\n",
      "Requirement already satisfied: pillow>=6.2.0 in /home/codespace/.local/lib/python3.10/site-packages (from matplotlib) (9.5.0)\n",
      "Requirement already satisfied: pyparsing>=2.3.1 in /home/codespace/.local/lib/python3.10/site-packages (from matplotlib) (3.0.9)\n",
      "Requirement already satisfied: python-dateutil>=2.7 in /home/codespace/.local/lib/python3.10/site-packages (from matplotlib) (2.8.2)\n",
      "Requirement already satisfied: six>=1.5 in /home/codespace/.local/lib/python3.10/site-packages (from python-dateutil>=2.7->matplotlib) (1.16.0)\n",
      "Note: you may need to restart the kernel to use updated packages.\n"
     ]
    }
   ],
   "source": [
    "%pip install pandas\n",
    "%pip install 'SQLAlchemy==1.4.46'\n",
    "%pip install matplotlib"
   ]
  },
  {
   "cell_type": "code",
   "execution_count": 56,
   "metadata": {},
   "outputs": [],
   "source": [
    "import pandas as pd\n",
    "import sqlalchemy as sa\n",
    "import os\n",
    "import matplotlib.pyplot as plt\n",
    "\n",
    "#df = read_sql('sqlite:///data.sqlite')"
   ]
  },
  {
   "attachments": {},
   "cell_type": "markdown",
   "metadata": {},
   "source": [
    "## Load the data from the Database into a DataFrame"
   ]
  },
  {
   "attachments": {},
   "cell_type": "markdown",
   "metadata": {},
   "source": [
    "### Query the data needed for the data analysis"
   ]
  },
  {
   "attachments": {},
   "cell_type": "markdown",
   "metadata": {},
   "source": [
    "Now I could run a query on the data as they are stored in the SQLite-Database. To answer my question I selected everything what has been imported from the county and vehicle data.\n",
    "After that the query gets executed and stored into a dataframe."
   ]
  },
  {
   "cell_type": "code",
   "execution_count": 79,
   "metadata": {},
   "outputs": [
    {
     "name": "stdout",
     "output_type": "stream",
     "text": [
      "Current Directory: /workspaces/2023-amse-template_LSc\n"
     ]
    },
    {
     "ename": "OperationalError",
     "evalue": "(sqlite3.OperationalError) no such table: county\n[SQL: \nSELECT c.note AS County, c.einwohner AS Inhabitants, v.Pkw AS \"Registered Vehicles\", v.Ackerschlepper AS Ackerschlepper\nFROM county AS c\nJOIN vehicle AS v ON c.note = v.county\n]\n(Background on this error at: https://sqlalche.me/e/14/e3q8)",
     "output_type": "error",
     "traceback": [
      "\u001b[0;31m---------------------------------------------------------------------------\u001b[0m",
      "\u001b[0;31mOperationalError\u001b[0m                          Traceback (most recent call last)",
      "File \u001b[0;32m/usr/local/python/3.10.8/lib/python3.10/site-packages/sqlalchemy/engine/base.py:1900\u001b[0m, in \u001b[0;36mConnection._execute_context\u001b[0;34m(self, dialect, constructor, statement, parameters, execution_options, *args, **kw)\u001b[0m\n\u001b[1;32m   1899\u001b[0m     \u001b[39mif\u001b[39;00m \u001b[39mnot\u001b[39;00m evt_handled:\n\u001b[0;32m-> 1900\u001b[0m         \u001b[39mself\u001b[39;49m\u001b[39m.\u001b[39;49mdialect\u001b[39m.\u001b[39;49mdo_execute(\n\u001b[1;32m   1901\u001b[0m             cursor, statement, parameters, context\n\u001b[1;32m   1902\u001b[0m         )\n\u001b[1;32m   1904\u001b[0m \u001b[39mif\u001b[39;00m \u001b[39mself\u001b[39m\u001b[39m.\u001b[39m_has_events \u001b[39mor\u001b[39;00m \u001b[39mself\u001b[39m\u001b[39m.\u001b[39mengine\u001b[39m.\u001b[39m_has_events:\n",
      "File \u001b[0;32m/usr/local/python/3.10.8/lib/python3.10/site-packages/sqlalchemy/engine/default.py:736\u001b[0m, in \u001b[0;36mDefaultDialect.do_execute\u001b[0;34m(self, cursor, statement, parameters, context)\u001b[0m\n\u001b[1;32m    735\u001b[0m \u001b[39mdef\u001b[39;00m \u001b[39mdo_execute\u001b[39m(\u001b[39mself\u001b[39m, cursor, statement, parameters, context\u001b[39m=\u001b[39m\u001b[39mNone\u001b[39;00m):\n\u001b[0;32m--> 736\u001b[0m     cursor\u001b[39m.\u001b[39;49mexecute(statement, parameters)\n",
      "\u001b[0;31mOperationalError\u001b[0m: no such table: county",
      "\nThe above exception was the direct cause of the following exception:\n",
      "\u001b[0;31mOperationalError\u001b[0m                          Traceback (most recent call last)",
      "Cell \u001b[0;32mIn[79], line 11\u001b[0m\n\u001b[1;32m      9\u001b[0m engine \u001b[39m=\u001b[39m sa\u001b[39m.\u001b[39mcreate_engine(\u001b[39m'\u001b[39m\u001b[39msqlite:///./data/data.sqlite\u001b[39m\u001b[39m'\u001b[39m)\n\u001b[1;32m     10\u001b[0m conn \u001b[39m=\u001b[39m engine\u001b[39m.\u001b[39mconnect() \u001b[39m# Execute the query and fetch the data\u001b[39;00m\n\u001b[0;32m---> 11\u001b[0m result \u001b[39m=\u001b[39m conn\u001b[39m.\u001b[39;49mexecute(query)\n\u001b[1;32m     12\u001b[0m data \u001b[39m=\u001b[39m result\u001b[39m.\u001b[39mfetchall()\n\u001b[1;32m     14\u001b[0m \u001b[39m#df = pd.DataFrame(data, columns=[\"County\", \"Inhabitants\", \"Registered Vehicles\", \"Ackerschlepper\"]) # Create the DataFrame\u001b[39;00m\n",
      "File \u001b[0;32m/usr/local/python/3.10.8/lib/python3.10/site-packages/sqlalchemy/engine/base.py:1380\u001b[0m, in \u001b[0;36mConnection.execute\u001b[0;34m(self, statement, *multiparams, **params)\u001b[0m\n\u001b[1;32m   1376\u001b[0m     util\u001b[39m.\u001b[39mraise_(\n\u001b[1;32m   1377\u001b[0m         exc\u001b[39m.\u001b[39mObjectNotExecutableError(statement), replace_context\u001b[39m=\u001b[39merr\n\u001b[1;32m   1378\u001b[0m     )\n\u001b[1;32m   1379\u001b[0m \u001b[39melse\u001b[39;00m:\n\u001b[0;32m-> 1380\u001b[0m     \u001b[39mreturn\u001b[39;00m meth(\u001b[39mself\u001b[39;49m, multiparams, params, _EMPTY_EXECUTION_OPTS)\n",
      "File \u001b[0;32m/usr/local/python/3.10.8/lib/python3.10/site-packages/sqlalchemy/sql/elements.py:334\u001b[0m, in \u001b[0;36mClauseElement._execute_on_connection\u001b[0;34m(self, connection, multiparams, params, execution_options, _force)\u001b[0m\n\u001b[1;32m    330\u001b[0m \u001b[39mdef\u001b[39;00m \u001b[39m_execute_on_connection\u001b[39m(\n\u001b[1;32m    331\u001b[0m     \u001b[39mself\u001b[39m, connection, multiparams, params, execution_options, _force\u001b[39m=\u001b[39m\u001b[39mFalse\u001b[39;00m\n\u001b[1;32m    332\u001b[0m ):\n\u001b[1;32m    333\u001b[0m     \u001b[39mif\u001b[39;00m _force \u001b[39mor\u001b[39;00m \u001b[39mself\u001b[39m\u001b[39m.\u001b[39msupports_execution:\n\u001b[0;32m--> 334\u001b[0m         \u001b[39mreturn\u001b[39;00m connection\u001b[39m.\u001b[39;49m_execute_clauseelement(\n\u001b[1;32m    335\u001b[0m             \u001b[39mself\u001b[39;49m, multiparams, params, execution_options\n\u001b[1;32m    336\u001b[0m         )\n\u001b[1;32m    337\u001b[0m     \u001b[39melse\u001b[39;00m:\n\u001b[1;32m    338\u001b[0m         \u001b[39mraise\u001b[39;00m exc\u001b[39m.\u001b[39mObjectNotExecutableError(\u001b[39mself\u001b[39m)\n",
      "File \u001b[0;32m/usr/local/python/3.10.8/lib/python3.10/site-packages/sqlalchemy/engine/base.py:1572\u001b[0m, in \u001b[0;36mConnection._execute_clauseelement\u001b[0;34m(self, elem, multiparams, params, execution_options)\u001b[0m\n\u001b[1;32m   1560\u001b[0m compiled_cache \u001b[39m=\u001b[39m execution_options\u001b[39m.\u001b[39mget(\n\u001b[1;32m   1561\u001b[0m     \u001b[39m\"\u001b[39m\u001b[39mcompiled_cache\u001b[39m\u001b[39m\"\u001b[39m, \u001b[39mself\u001b[39m\u001b[39m.\u001b[39mengine\u001b[39m.\u001b[39m_compiled_cache\n\u001b[1;32m   1562\u001b[0m )\n\u001b[1;32m   1564\u001b[0m compiled_sql, extracted_params, cache_hit \u001b[39m=\u001b[39m elem\u001b[39m.\u001b[39m_compile_w_cache(\n\u001b[1;32m   1565\u001b[0m     dialect\u001b[39m=\u001b[39mdialect,\n\u001b[1;32m   1566\u001b[0m     compiled_cache\u001b[39m=\u001b[39mcompiled_cache,\n\u001b[0;32m   (...)\u001b[0m\n\u001b[1;32m   1570\u001b[0m     linting\u001b[39m=\u001b[39m\u001b[39mself\u001b[39m\u001b[39m.\u001b[39mdialect\u001b[39m.\u001b[39mcompiler_linting \u001b[39m|\u001b[39m compiler\u001b[39m.\u001b[39mWARN_LINTING,\n\u001b[1;32m   1571\u001b[0m )\n\u001b[0;32m-> 1572\u001b[0m ret \u001b[39m=\u001b[39m \u001b[39mself\u001b[39;49m\u001b[39m.\u001b[39;49m_execute_context(\n\u001b[1;32m   1573\u001b[0m     dialect,\n\u001b[1;32m   1574\u001b[0m     dialect\u001b[39m.\u001b[39;49mexecution_ctx_cls\u001b[39m.\u001b[39;49m_init_compiled,\n\u001b[1;32m   1575\u001b[0m     compiled_sql,\n\u001b[1;32m   1576\u001b[0m     distilled_params,\n\u001b[1;32m   1577\u001b[0m     execution_options,\n\u001b[1;32m   1578\u001b[0m     compiled_sql,\n\u001b[1;32m   1579\u001b[0m     distilled_params,\n\u001b[1;32m   1580\u001b[0m     elem,\n\u001b[1;32m   1581\u001b[0m     extracted_params,\n\u001b[1;32m   1582\u001b[0m     cache_hit\u001b[39m=\u001b[39;49mcache_hit,\n\u001b[1;32m   1583\u001b[0m )\n\u001b[1;32m   1584\u001b[0m \u001b[39mif\u001b[39;00m has_events:\n\u001b[1;32m   1585\u001b[0m     \u001b[39mself\u001b[39m\u001b[39m.\u001b[39mdispatch\u001b[39m.\u001b[39mafter_execute(\n\u001b[1;32m   1586\u001b[0m         \u001b[39mself\u001b[39m,\n\u001b[1;32m   1587\u001b[0m         elem,\n\u001b[0;32m   (...)\u001b[0m\n\u001b[1;32m   1591\u001b[0m         ret,\n\u001b[1;32m   1592\u001b[0m     )\n",
      "File \u001b[0;32m/usr/local/python/3.10.8/lib/python3.10/site-packages/sqlalchemy/engine/base.py:1943\u001b[0m, in \u001b[0;36mConnection._execute_context\u001b[0;34m(self, dialect, constructor, statement, parameters, execution_options, *args, **kw)\u001b[0m\n\u001b[1;32m   1940\u001b[0m             branched\u001b[39m.\u001b[39mclose()\n\u001b[1;32m   1942\u001b[0m \u001b[39mexcept\u001b[39;00m \u001b[39mBaseException\u001b[39;00m \u001b[39mas\u001b[39;00m e:\n\u001b[0;32m-> 1943\u001b[0m     \u001b[39mself\u001b[39;49m\u001b[39m.\u001b[39;49m_handle_dbapi_exception(\n\u001b[1;32m   1944\u001b[0m         e, statement, parameters, cursor, context\n\u001b[1;32m   1945\u001b[0m     )\n\u001b[1;32m   1947\u001b[0m \u001b[39mreturn\u001b[39;00m result\n",
      "File \u001b[0;32m/usr/local/python/3.10.8/lib/python3.10/site-packages/sqlalchemy/engine/base.py:2124\u001b[0m, in \u001b[0;36mConnection._handle_dbapi_exception\u001b[0;34m(self, e, statement, parameters, cursor, context)\u001b[0m\n\u001b[1;32m   2122\u001b[0m     util\u001b[39m.\u001b[39mraise_(newraise, with_traceback\u001b[39m=\u001b[39mexc_info[\u001b[39m2\u001b[39m], from_\u001b[39m=\u001b[39me)\n\u001b[1;32m   2123\u001b[0m \u001b[39melif\u001b[39;00m should_wrap:\n\u001b[0;32m-> 2124\u001b[0m     util\u001b[39m.\u001b[39;49mraise_(\n\u001b[1;32m   2125\u001b[0m         sqlalchemy_exception, with_traceback\u001b[39m=\u001b[39;49mexc_info[\u001b[39m2\u001b[39;49m], from_\u001b[39m=\u001b[39;49me\n\u001b[1;32m   2126\u001b[0m     )\n\u001b[1;32m   2127\u001b[0m \u001b[39melse\u001b[39;00m:\n\u001b[1;32m   2128\u001b[0m     util\u001b[39m.\u001b[39mraise_(exc_info[\u001b[39m1\u001b[39m], with_traceback\u001b[39m=\u001b[39mexc_info[\u001b[39m2\u001b[39m])\n",
      "File \u001b[0;32m/usr/local/python/3.10.8/lib/python3.10/site-packages/sqlalchemy/util/compat.py:211\u001b[0m, in \u001b[0;36mraise_\u001b[0;34m(***failed resolving arguments***)\u001b[0m\n\u001b[1;32m    208\u001b[0m     exception\u001b[39m.\u001b[39m__cause__ \u001b[39m=\u001b[39m replace_context\n\u001b[1;32m    210\u001b[0m \u001b[39mtry\u001b[39;00m:\n\u001b[0;32m--> 211\u001b[0m     \u001b[39mraise\u001b[39;00m exception\n\u001b[1;32m    212\u001b[0m \u001b[39mfinally\u001b[39;00m:\n\u001b[1;32m    213\u001b[0m     \u001b[39m# credit to\u001b[39;00m\n\u001b[1;32m    214\u001b[0m     \u001b[39m# https://cosmicpercolator.com/2016/01/13/exception-leaks-in-python-2-and-3/\u001b[39;00m\n\u001b[1;32m    215\u001b[0m     \u001b[39m# as the __traceback__ object creates a cycle\u001b[39;00m\n\u001b[1;32m    216\u001b[0m     \u001b[39mdel\u001b[39;00m exception, replace_context, from_, with_traceback\n",
      "File \u001b[0;32m/usr/local/python/3.10.8/lib/python3.10/site-packages/sqlalchemy/engine/base.py:1900\u001b[0m, in \u001b[0;36mConnection._execute_context\u001b[0;34m(self, dialect, constructor, statement, parameters, execution_options, *args, **kw)\u001b[0m\n\u001b[1;32m   1898\u001b[0m                 \u001b[39mbreak\u001b[39;00m\n\u001b[1;32m   1899\u001b[0m     \u001b[39mif\u001b[39;00m \u001b[39mnot\u001b[39;00m evt_handled:\n\u001b[0;32m-> 1900\u001b[0m         \u001b[39mself\u001b[39;49m\u001b[39m.\u001b[39;49mdialect\u001b[39m.\u001b[39;49mdo_execute(\n\u001b[1;32m   1901\u001b[0m             cursor, statement, parameters, context\n\u001b[1;32m   1902\u001b[0m         )\n\u001b[1;32m   1904\u001b[0m \u001b[39mif\u001b[39;00m \u001b[39mself\u001b[39m\u001b[39m.\u001b[39m_has_events \u001b[39mor\u001b[39;00m \u001b[39mself\u001b[39m\u001b[39m.\u001b[39mengine\u001b[39m.\u001b[39m_has_events:\n\u001b[1;32m   1905\u001b[0m     \u001b[39mself\u001b[39m\u001b[39m.\u001b[39mdispatch\u001b[39m.\u001b[39mafter_cursor_execute(\n\u001b[1;32m   1906\u001b[0m         \u001b[39mself\u001b[39m,\n\u001b[1;32m   1907\u001b[0m         cursor,\n\u001b[0;32m   (...)\u001b[0m\n\u001b[1;32m   1911\u001b[0m         context\u001b[39m.\u001b[39mexecutemany,\n\u001b[1;32m   1912\u001b[0m     )\n",
      "File \u001b[0;32m/usr/local/python/3.10.8/lib/python3.10/site-packages/sqlalchemy/engine/default.py:736\u001b[0m, in \u001b[0;36mDefaultDialect.do_execute\u001b[0;34m(self, cursor, statement, parameters, context)\u001b[0m\n\u001b[1;32m    735\u001b[0m \u001b[39mdef\u001b[39;00m \u001b[39mdo_execute\u001b[39m(\u001b[39mself\u001b[39m, cursor, statement, parameters, context\u001b[39m=\u001b[39m\u001b[39mNone\u001b[39;00m):\n\u001b[0;32m--> 736\u001b[0m     cursor\u001b[39m.\u001b[39;49mexecute(statement, parameters)\n",
      "\u001b[0;31mOperationalError\u001b[0m: (sqlite3.OperationalError) no such table: county\n[SQL: \nSELECT c.note AS County, c.einwohner AS Inhabitants, v.Pkw AS \"Registered Vehicles\", v.Ackerschlepper AS Ackerschlepper\nFROM county AS c\nJOIN vehicle AS v ON c.note = v.county\n]\n(Background on this error at: https://sqlalche.me/e/14/e3q8)"
     ]
    }
   ],
   "source": [
    "query = sa.text(\"\"\"\n",
    "SELECT c.note AS County, c.einwohner AS Inhabitants, v.Pkw AS \"Registered Vehicles\", v.Ackerschlepper AS Ackerschlepper\n",
    "FROM county AS c\n",
    "JOIN vehicle AS v ON c.note = v.county\n",
    "\"\"\")\n",
    "current_directory = os.getcwd()\n",
    "print(\"Current Directory:\", current_directory)\n",
    "database_path = os.path.join(current_directory, \"data\", \"data.sqlite\")\n",
    "\n",
    "engine = sa.create_engine(f'sqlite:///{database_path}')\n",
    "conn = engine.connect() # Execute the query and fetch the data\n",
    "result = conn.execute(query)\n",
    "data = result.fetchall()\n",
    "\n",
    "#df = pd.DataFrame(data, columns=[\"County\", \"Inhabitants\", \"Registered Vehicles\", \"Ackerschlepper\"]) # Create the DataFrame"
   ]
  },
  {
   "attachments": {},
   "cell_type": "markdown",
   "metadata": {},
   "source": [
    "### Set up the Data for the exploratory analysis and initiate important variables"
   ]
  },
  {
   "cell_type": "code",
   "execution_count": null,
   "metadata": {},
   "outputs": [],
   "source": [
    "filtered_df_pkw = df[df[\"Registered Vehicles\"].notnull() & (df[\"Registered Vehicles\"] != \"-\")] # Filter out non-integers and NULLs, we do this in this step as otherwise we would need to store a '0' in our DB \n",
    "filtered_df_ackerschlepper = df[df[\"Ackerschlepper\"].notnull() & (df[\"Ackerschlepper\"] != \"-\")] # or use dropna() which would drop a column even if it would only lack one value\n",
    "\n",
    "max_registered_vehicles = filtered_df_pkw[\"Registered Vehicles\"].astype(int).max() # Convert max_registered_vehicles and max_inhabitants to integers and get the maximum value\n",
    "max_inhabitants = filtered_df_pkw[\"Inhabitants\"].astype(int).max()\n",
    "\n",
    "num_ticks = 10 # Set the desired number of tick marks\n",
    "\n",
    "x_ticks_pkw = list(range(0, max_registered_vehicles + 1, max_registered_vehicles // num_ticks)) # Define the tick positions for the x-axis\n",
    "x_ticks_ackerschlepper = list(range(0, filtered_df_ackerschlepper[\"Ackerschlepper\"].astype(int).max() + 1, filtered_df_ackerschlepper[\"Ackerschlepper\"].astype(int).max() // num_ticks))\n",
    "\n",
    "\n",
    "max_inhabitants = filtered_df_pkw[\"Inhabitants\"].astype(int).max() # Again convert inhabitants into integers and then get the maximum\n",
    "\n",
    "y_ticks = list(range(0, max_inhabitants + 1, max_inhabitants // num_ticks))"
   ]
  },
  {
   "attachments": {},
   "cell_type": "markdown",
   "metadata": {},
   "source": [
    "### Data exploration\n",
    "Print some basic information about the data. Your data exploration would continue here."
   ]
  },
  {
   "cell_type": "code",
   "execution_count": null,
   "metadata": {},
   "outputs": [],
   "source": [
    "filtered_df_pkw.info()\n",
    "filtered_df_ackerschlepper.info()"
   ]
  },
  {
   "attachments": {},
   "cell_type": "markdown",
   "metadata": {},
   "source": [
    "### Set up all parameters for the plot"
   ]
  },
  {
   "cell_type": "code",
   "execution_count": null,
   "metadata": {},
   "outputs": [],
   "source": [
    "# Plot the counties inhabitants and their amount of registered vehicles\n",
    "plt.figure(figsize=(18, 6))"
   ]
  },
  {
   "attachments": {},
   "cell_type": "markdown",
   "metadata": {},
   "source": [
    "#### Set up plot for PKW"
   ]
  },
  {
   "cell_type": "code",
   "execution_count": null,
   "metadata": {},
   "outputs": [],
   "source": [
    "plt.subplot(1, 2, 1)\n",
    "plt.scatter(filtered_df_pkw[\"Registered Vehicles\"].astype(int), filtered_df_pkw[\"Inhabitants\"].astype(int))\n",
    "plt.xlabel(\"Registered Vehicles (Pkw)\")\n",
    "plt.ylabel(\"Inhabitants\")\n",
    "plt.title(\"County Analysis - Pkw\")\n",
    "plt.xticks(x_ticks_pkw)\n",
    "plt.yticks(y_ticks)\n",
    "plt.ticklabel_format(style=\"plain\")\n",
    "total_points_pkw = len(filtered_df_pkw)\n",
    "plt.text(0.95, 0.95, f\"Total Counties: {total_points_pkw}\", transform=plt.gca().transAxes, ha='right', va='top')\n",
    "highest_ratio_county_pkw = filtered_df_pkw.loc[(filtered_df_pkw[\"Registered Vehicles\"].astype(int) / filtered_df_pkw[\"Inhabitants\"].astype(int)) == (filtered_df_pkw[\"Registered Vehicles\"].astype(int) / filtered_df_pkw[\"Inhabitants\"].astype(int)).max(), \"County\"].iloc[0]\n",
    "highest_ratio_value_pkw = (filtered_df_pkw[\"Registered Vehicles\"].astype(int) / filtered_df_pkw[\"Inhabitants\"].astype(int)).max()\n",
    "lowest_ratio_county_pkw = filtered_df_pkw.loc[(filtered_df_pkw[\"Registered Vehicles\"].astype(int) / filtered_df_pkw[\"Inhabitants\"].astype(int)) == (filtered_df_pkw[\"Registered Vehicles\"].astype(int) / filtered_df_pkw[\"Inhabitants\"].astype(int)).min(), \"County\"].iloc[0]\n",
    "lowest_ratio_value_pkw = (filtered_df_pkw[\"Registered Vehicles\"].astype(int) / filtered_df_pkw[\"Inhabitants\"].astype(int)).min()\n",
    "plt.text(0.95, 0.90, f\"Most Pkw per Inhabitant: {highest_ratio_county_pkw} ({highest_ratio_value_pkw:.2f})\", transform=plt.gca().transAxes, ha='right', va='top')\n",
    "plt.text(0.95, 0.85, f\"Lowest Pkw per Inhabitant: {lowest_ratio_county_pkw} ({lowest_ratio_value_pkw:.2f})\", transform=plt.gca().transAxes, ha='right', va='top')\n",
    "filtered_df_pkw.to_sql(\"result_pkw\", engine, if_exists=\"replace\", index=False)"
   ]
  },
  {
   "attachments": {},
   "cell_type": "markdown",
   "metadata": {},
   "source": [
    "#### Set up plot for \"Ackerschlepper\"/Tractors"
   ]
  },
  {
   "cell_type": "code",
   "execution_count": null,
   "metadata": {},
   "outputs": [],
   "source": [
    "plt.subplot(1, 2, 2)\n",
    "plt.scatter(filtered_df_ackerschlepper[\"Ackerschlepper\"].astype(int), filtered_df_ackerschlepper[\"Inhabitants\"].astype(int))\n",
    "plt.xlabel(\"Tractors\")\n",
    "plt.ylabel(\"Inhabitants\")\n",
    "plt.title(\"County Analysis - Ackerschlepper\")\n",
    "plt.xticks(x_ticks_ackerschlepper)\n",
    "plt.yticks(y_ticks)\n",
    "plt.ticklabel_format(style=\"plain\")\n",
    "total_points_ackerschlepper = len(filtered_df_ackerschlepper)\n",
    "plt.text(0.95, 0.95, f\"Total Counties: {total_points_ackerschlepper}\", transform=plt.gca().transAxes, ha='right', va='top')\n",
    "highest_ratio_county_ackerschlepper = filtered_df_ackerschlepper.loc[(filtered_df_ackerschlepper[\"Ackerschlepper\"].astype(int) / filtered_df_ackerschlepper[\"Inhabitants\"].astype(int)) == (filtered_df_ackerschlepper[\"Ackerschlepper\"].astype(int) / filtered_df_ackerschlepper[\"Inhabitants\"].astype(int)).max(), \"County\"].iloc[0]\n",
    "highest_ratio_value_ackerschlepper = (filtered_df_ackerschlepper[\"Ackerschlepper\"].astype(int) / filtered_df_ackerschlepper[\"Inhabitants\"].astype(int)).max()\n",
    "lowest_ratio_county_ackerschlepper = filtered_df_ackerschlepper.loc[(filtered_df_ackerschlepper[\"Ackerschlepper\"].astype(int) / filtered_df_ackerschlepper[\"Inhabitants\"].astype(int)) == (filtered_df_ackerschlepper[\"Ackerschlepper\"].astype(int) / filtered_df_ackerschlepper[\"Inhabitants\"].astype(int)).min(), \"County\"].iloc[0]\n",
    "lowest_ratio_value_ackerschlepper = (filtered_df_ackerschlepper[\"Ackerschlepper\"].astype(int) / filtered_df_ackerschlepper[\"Inhabitants\"].astype(int)).min()\n",
    "plt.text(0.95, 0.90, f\"Most Tractors per Inhabitant: {highest_ratio_county_ackerschlepper} ({highest_ratio_value_ackerschlepper:.2f})\", transform=plt.gca().transAxes, ha='right', va='top')\n",
    "plt.text(0.95, 0.85, f\"Lowest Tractors per Inhabitant: {lowest_ratio_county_ackerschlepper} ({lowest_ratio_value_ackerschlepper:.2f})\", transform=plt.gca().transAxes, ha='right', va='top')\n",
    "filtered_df_ackerschlepper.to_sql(\"result_ackerschlepper\", engine, if_exists=\"replace\", index=False)"
   ]
  },
  {
   "attachments": {},
   "cell_type": "markdown",
   "metadata": {},
   "source": [
    "### Show the Plots"
   ]
  },
  {
   "cell_type": "code",
   "execution_count": null,
   "metadata": {},
   "outputs": [],
   "source": [
    "plt.tight_layout()\n",
    "plt.show()"
   ]
  }
 ],
 "metadata": {
  "kernelspec": {
   "display_name": "Python 3 (ipykernel)",
   "language": "python",
   "name": "python3"
  },
  "language_info": {
   "codemirror_mode": {
    "name": "ipython",
    "version": 3
   },
   "file_extension": ".py",
   "mimetype": "text/x-python",
   "name": "python",
   "nbconvert_exporter": "python",
   "pygments_lexer": "ipython3",
   "version": "3.10.8"
  },
  "orig_nbformat": 4
 },
 "nbformat": 4,
 "nbformat_minor": 2
}
